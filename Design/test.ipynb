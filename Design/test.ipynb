{
 "cells": [
  {
   "cell_type": "code",
   "execution_count": 7,
   "metadata": {},
   "outputs": [],
   "source": [
    "!pyuic5 -x SettingMean.ui -o SettingMean.py"
   ]
  },
  {
   "cell_type": "code",
   "execution_count": 1,
   "metadata": {},
   "outputs": [
    {
     "ename": "NameError",
     "evalue": "name 'time' is not defined",
     "output_type": "error",
     "traceback": [
      "\u001b[1;31m---------------------------------------------------------------------------\u001b[0m",
      "\u001b[1;31mNameError\u001b[0m                                 Traceback (most recent call last)",
      "\u001b[1;32mc:\\Users\\User\\Desktop\\Диплом\\Other\\test.ipynb Ячейка 1\u001b[0m in \u001b[0;36mMainWindow.show_loading_dialog\u001b[1;34m(self)\u001b[0m\n\u001b[0;32m     <a href='vscode-notebook-cell:/c%3A/Users/User/Desktop/%D0%94%D0%B8%D0%BF%D0%BB%D0%BE%D0%BC/Other/test.ipynb#W0sZmlsZQ%3D%3D?line=46'>47</a>\u001b[0m loading_dialog\u001b[39m.\u001b[39mshow()\n\u001b[0;32m     <a href='vscode-notebook-cell:/c%3A/Users/User/Desktop/%D0%94%D0%B8%D0%BF%D0%BB%D0%BE%D0%BC/Other/test.ipynb#W0sZmlsZQ%3D%3D?line=48'>49</a>\u001b[0m \u001b[39m# Здесь выполняются ваша задача или вычисления\u001b[39;00m\n\u001b[1;32m---> <a href='vscode-notebook-cell:/c%3A/Users/User/Desktop/%D0%94%D0%B8%D0%BF%D0%BB%D0%BE%D0%BC/Other/test.ipynb#W0sZmlsZQ%3D%3D?line=49'>50</a>\u001b[0m \u001b[39mself\u001b[39;49m\u001b[39m.\u001b[39;49mperform_calculations()\n\u001b[0;32m     <a href='vscode-notebook-cell:/c%3A/Users/User/Desktop/%D0%94%D0%B8%D0%BF%D0%BB%D0%BE%D0%BC/Other/test.ipynb#W0sZmlsZQ%3D%3D?line=51'>52</a>\u001b[0m loading_dialog\u001b[39m.\u001b[39mclose()\n",
      "\u001b[1;32mc:\\Users\\User\\Desktop\\Диплом\\Other\\test.ipynb Ячейка 1\u001b[0m in \u001b[0;36mMainWindow.perform_calculations\u001b[1;34m(self)\u001b[0m\n\u001b[0;32m     <a href='vscode-notebook-cell:/c%3A/Users/User/Desktop/%D0%94%D0%B8%D0%BF%D0%BB%D0%BE%D0%BC/Other/test.ipynb#W0sZmlsZQ%3D%3D?line=53'>54</a>\u001b[0m \u001b[39mdef\u001b[39;00m \u001b[39mperform_calculations\u001b[39m(\u001b[39mself\u001b[39m):\n\u001b[0;32m     <a href='vscode-notebook-cell:/c%3A/Users/User/Desktop/%D0%94%D0%B8%D0%BF%D0%BB%D0%BE%D0%BC/Other/test.ipynb#W0sZmlsZQ%3D%3D?line=54'>55</a>\u001b[0m     \u001b[39mfor\u001b[39;00m _ \u001b[39min\u001b[39;00m \u001b[39mrange\u001b[39m(\u001b[39m50\u001b[39m):\n\u001b[1;32m---> <a href='vscode-notebook-cell:/c%3A/Users/User/Desktop/%D0%94%D0%B8%D0%BF%D0%BB%D0%BE%D0%BC/Other/test.ipynb#W0sZmlsZQ%3D%3D?line=55'>56</a>\u001b[0m         time\u001b[39m.\u001b[39msleep(\u001b[39m0.1\u001b[39m)\n",
      "\u001b[1;31mNameError\u001b[0m: name 'time' is not defined"
     ]
    },
    {
     "ename": "SystemExit",
     "evalue": "0",
     "output_type": "error",
     "traceback": [
      "An exception has occurred, use %tb to see the full traceback.\n",
      "\u001b[1;31mSystemExit\u001b[0m\u001b[1;31m:\u001b[0m 0\n"
     ]
    },
    {
     "name": "stderr",
     "output_type": "stream",
     "text": [
      "c:\\Users\\User\\anaconda3\\lib\\site-packages\\IPython\\core\\interactiveshell.py:3405: UserWarning: To exit: use 'exit', 'quit', or Ctrl-D.\n",
      "  warn(\"To exit: use 'exit', 'quit', or Ctrl-D.\", stacklevel=1)\n"
     ]
    }
   ],
   "source": [
    "import sys\n",
    "from PyQt5.QtWidgets import QApplication, QMainWindow, QDialog, QVBoxLayout, QLabel, QPushButton\n",
    "from PyQt5.QtCore import QTimer, Qt\n",
    "\n",
    "class LoadingDialog(QDialog):\n",
    "    def __init__(self, parent=None):\n",
    "        super().__init__(parent)\n",
    "\n",
    "        self.setWindowTitle(\"Загрузка\")\n",
    "        self.setWindowModality(Qt.ApplicationModal)\n",
    "        self.setFixedSize(200, 100)\n",
    "\n",
    "        layout = QVBoxLayout()\n",
    "\n",
    "        self.label = QLabel(\"Проводятся расчеты\", self)\n",
    "        layout.addWidget(self.label, alignment=Qt.AlignHCenter)\n",
    "\n",
    "        self.setLayout(layout)\n",
    "\n",
    "        self.timer = QTimer(self)\n",
    "        self.timer.timeout.connect(self.update_dots)\n",
    "        self.timer.start(300)\n",
    "\n",
    "        self.dot_count = 0\n",
    "\n",
    "    def update_dots(self):\n",
    "        self.dot_count = (self.dot_count + 1) % 4\n",
    "        self.label.setText(f\"Проводятся расчеты{'.' * self.dot_count}\")\n",
    "\n",
    "class MainWindow(QMainWindow):\n",
    "    def __init__(self):\n",
    "        super().__init__()\n",
    "\n",
    "        self.initUI()\n",
    "\n",
    "    def initUI(self):\n",
    "        self.setGeometry(300, 300, 400, 300)\n",
    "        self.setWindowTitle('Пример окна загрузки')\n",
    "\n",
    "        self.btn = QPushButton('Начать расчет', self)\n",
    "        self.btn.clicked.connect(self.show_loading_dialog)\n",
    "        self.btn.resize(self.btn.sizeHint())\n",
    "        self.btn.move(150, 130)\n",
    "\n",
    "    def show_loading_dialog(self):\n",
    "        loading_dialog = LoadingDialog(self)\n",
    "        loading_dialog.show()\n",
    "\n",
    "        # Здесь выполняются ваша задача или вычисления\n",
    "        self.perform_calculations()\n",
    "\n",
    "        loading_dialog.close()\n",
    "\n",
    "    def perform_calculations(self):\n",
    "        for _ in range(50):\n",
    "            time.sleep(0.1)  # Замените этот блок на свои вычисления или задачу\n",
    "\n",
    "if __name__ == '__main__':\n",
    "    app = QApplication(sys.argv)\n",
    "    main_window = MainWindow()\n",
    "    main_window.show()\n",
    "    sys.exit(app.exec_())\n"
   ]
  },
  {
   "cell_type": "code",
   "execution_count": null,
   "metadata": {},
   "outputs": [],
   "source": []
  }
 ],
 "metadata": {
  "kernelspec": {
   "display_name": "base",
   "language": "python",
   "name": "python3"
  },
  "language_info": {
   "codemirror_mode": {
    "name": "ipython",
    "version": 3
   },
   "file_extension": ".py",
   "mimetype": "text/x-python",
   "name": "python",
   "nbconvert_exporter": "python",
   "pygments_lexer": "ipython3",
   "version": "3.8.8"
  },
  "orig_nbformat": 4,
  "vscode": {
   "interpreter": {
    "hash": "f08154012ddadd8e950e6e9e035c7a7b32c136e7647e9b7c77e02eb723a8bedb"
   }
  }
 },
 "nbformat": 4,
 "nbformat_minor": 2
}
